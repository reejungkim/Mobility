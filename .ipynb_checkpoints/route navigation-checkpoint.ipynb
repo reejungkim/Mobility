{
 "cells": [
  {
   "cell_type": "markdown",
   "metadata": {},
   "source": [
    "https://osmnx.readthedocs.io/en/stable/\n",
    "\n",
    "conda config --prepend channels conda-forge\n",
    "\n",
    "conda create -n ox --strict-channel-priority osmnx"
   ]
  },
  {
   "cell_type": "markdown",
   "metadata": {},
   "source": [
    "To activate this environment, use\n",
    "conda activate ox"
   ]
  },
  {
   "cell_type": "code",
   "execution_count": 1,
   "metadata": {},
   "outputs": [],
   "source": [
    "import pydeck as pdk\n",
    "import pandas as pd\n",
    "\n",
    "DATA_URL = \"https://raw.githubusercontent.com/ajduberstein/sf_public_data/master/bay_area_commute_routes.csv\""
   ]
  },
  {
   "cell_type": "code",
   "execution_count": 2,
   "metadata": {},
   "outputs": [
    {
     "data": {
      "text/html": [
       "<div>\n",
       "<style scoped>\n",
       "    .dataframe tbody tr th:only-of-type {\n",
       "        vertical-align: middle;\n",
       "    }\n",
       "\n",
       "    .dataframe tbody tr th {\n",
       "        vertical-align: top;\n",
       "    }\n",
       "\n",
       "    .dataframe thead th {\n",
       "        text-align: right;\n",
       "    }\n",
       "</style>\n",
       "<table border=\"1\" class=\"dataframe\">\n",
       "  <thead>\n",
       "    <tr style=\"text-align: right;\">\n",
       "      <th></th>\n",
       "      <th>S000</th>\n",
       "      <th>w_geocode</th>\n",
       "      <th>h_geocode</th>\n",
       "      <th>lat_w</th>\n",
       "      <th>lng_w</th>\n",
       "      <th>geoid10</th>\n",
       "      <th>lat_h</th>\n",
       "      <th>lng_h</th>\n",
       "    </tr>\n",
       "  </thead>\n",
       "  <tbody>\n",
       "    <tr>\n",
       "      <th>0</th>\n",
       "      <td>2</td>\n",
       "      <td>60014226001053</td>\n",
       "      <td>60014004001009</td>\n",
       "      <td>37.871299</td>\n",
       "      <td>-122.247111</td>\n",
       "      <td>60014004001009</td>\n",
       "      <td>37.849728</td>\n",
       "      <td>-122.253480</td>\n",
       "    </tr>\n",
       "    <tr>\n",
       "      <th>1</th>\n",
       "      <td>2</td>\n",
       "      <td>60750615001027</td>\n",
       "      <td>60014004001009</td>\n",
       "      <td>37.788996</td>\n",
       "      <td>-122.399133</td>\n",
       "      <td>60014004001009</td>\n",
       "      <td>37.849728</td>\n",
       "      <td>-122.253480</td>\n",
       "    </tr>\n",
       "    <tr>\n",
       "      <th>2</th>\n",
       "      <td>3</td>\n",
       "      <td>60014011004019</td>\n",
       "      <td>60014011003009</td>\n",
       "      <td>37.834784</td>\n",
       "      <td>-122.263400</td>\n",
       "      <td>60014011003009</td>\n",
       "      <td>37.825330</td>\n",
       "      <td>-122.263653</td>\n",
       "    </tr>\n",
       "    <tr>\n",
       "      <th>3</th>\n",
       "      <td>2</td>\n",
       "      <td>60014034002009</td>\n",
       "      <td>60014011003009</td>\n",
       "      <td>37.800271</td>\n",
       "      <td>-122.264140</td>\n",
       "      <td>60014011003009</td>\n",
       "      <td>37.825330</td>\n",
       "      <td>-122.263653</td>\n",
       "    </tr>\n",
       "    <tr>\n",
       "      <th>4</th>\n",
       "      <td>2</td>\n",
       "      <td>60014035011009</td>\n",
       "      <td>60014011003009</td>\n",
       "      <td>37.813966</td>\n",
       "      <td>-122.264186</td>\n",
       "      <td>60014011003009</td>\n",
       "      <td>37.825330</td>\n",
       "      <td>-122.263653</td>\n",
       "    </tr>\n",
       "  </tbody>\n",
       "</table>\n",
       "</div>"
      ],
      "text/plain": [
       "   S000       w_geocode       h_geocode      lat_w       lng_w  \\\n",
       "0     2  60014226001053  60014004001009  37.871299 -122.247111   \n",
       "1     2  60750615001027  60014004001009  37.788996 -122.399133   \n",
       "2     3  60014011004019  60014011003009  37.834784 -122.263400   \n",
       "3     2  60014034002009  60014011003009  37.800271 -122.264140   \n",
       "4     2  60014035011009  60014011003009  37.813966 -122.264186   \n",
       "\n",
       "          geoid10      lat_h       lng_h  \n",
       "0  60014004001009  37.849728 -122.253480  \n",
       "1  60014004001009  37.849728 -122.253480  \n",
       "2  60014011003009  37.825330 -122.263653  \n",
       "3  60014011003009  37.825330 -122.263653  \n",
       "4  60014011003009  37.825330 -122.263653  "
      ]
     },
     "execution_count": 2,
     "metadata": {},
     "output_type": "execute_result"
    }
   ],
   "source": [
    "df = pd.read_csv(DATA_URL)\n",
    "df.head()"
   ]
  },
  {
   "cell_type": "code",
   "execution_count": 3,
   "metadata": {
    "scrolled": true
   },
   "outputs": [],
   "source": [
    "import networkx as nx\n",
    "\n",
    "import requests\n",
    "import matplotlib.cm as cm\n",
    "import matplotlib.colors as colors\n",
    "%matplotlib inline\n",
    "\n",
    "import geopandas as gpd"
   ]
  },
  {
   "cell_type": "code",
   "execution_count": 5,
   "metadata": {},
   "outputs": [
    {
     "ename": "ModuleNotFoundError",
     "evalue": "No module named 'osmnx'",
     "output_type": "error",
     "traceback": [
      "\u001b[0;31m---------------------------------------------------------------------------\u001b[0m",
      "\u001b[0;31mModuleNotFoundError\u001b[0m                       Traceback (most recent call last)",
      "\u001b[0;32m<ipython-input-5-3412207390b2>\u001b[0m in \u001b[0;36m<module>\u001b[0;34m\u001b[0m\n\u001b[0;32m----> 1\u001b[0;31m \u001b[0;32mimport\u001b[0m \u001b[0mosmnx\u001b[0m \u001b[0;32mas\u001b[0m \u001b[0mox\u001b[0m\u001b[0;34m\u001b[0m\u001b[0m\n\u001b[0m\u001b[1;32m      2\u001b[0m \u001b[0mox\u001b[0m\u001b[0;34m.\u001b[0m\u001b[0mconfig\u001b[0m\u001b[0;34m(\u001b[0m\u001b[0mlog_console\u001b[0m\u001b[0;34m=\u001b[0m\u001b[0;32mTrue\u001b[0m\u001b[0;34m,\u001b[0m \u001b[0muse_cache\u001b[0m\u001b[0;34m=\u001b[0m\u001b[0;32mTrue\u001b[0m\u001b[0;34m)\u001b[0m\u001b[0;34m\u001b[0m\u001b[0m\n\u001b[1;32m      3\u001b[0m \u001b[0mox\u001b[0m\u001b[0;34m.\u001b[0m\u001b[0m__version__\u001b[0m\u001b[0;34m\u001b[0m\u001b[0m\n",
      "\u001b[0;31mModuleNotFoundError\u001b[0m: No module named 'osmnx'"
     ]
    }
   ],
   "source": [
    "import osmnx as ox\n",
    "ox.config(log_console=True, use_cache=True)\n",
    "ox.__version__"
   ]
  },
  {
   "cell_type": "code",
   "execution_count": null,
   "metadata": {},
   "outputs": [],
   "source": []
  }
 ],
 "metadata": {
  "kernelspec": {
   "display_name": "Python 3",
   "language": "python",
   "name": "python3"
  },
  "language_info": {
   "codemirror_mode": {
    "name": "ipython",
    "version": 3
   },
   "file_extension": ".py",
   "mimetype": "text/x-python",
   "name": "python",
   "nbconvert_exporter": "python",
   "pygments_lexer": "ipython3",
   "version": "3.7.0"
  }
 },
 "nbformat": 4,
 "nbformat_minor": 4
}
