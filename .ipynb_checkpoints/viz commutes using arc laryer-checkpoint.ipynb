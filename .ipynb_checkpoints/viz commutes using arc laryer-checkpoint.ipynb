{
 "cells": [
  {
   "cell_type": "markdown",
   "metadata": {},
   "source": [
    "ArcLayer\n",
    "========\n",
    "\n",
    "Map of commutes to work within a segment of downtown San Francisco using a deck.gl ArcLayer.\n",
    "\n",
    "Green indicates a start point, and red indicates the destination.\n",
    "\n",
    "The data is collected by the US Census Bureau and viewable in the 2017 LODES data set: https://lehd.ces.census.gov/data/"
   ]
  },
  {
   "cell_type": "markdown",
   "metadata": {},
   "source": [
    "Mapbox requires an API key\n",
    "command + scroll to rotate map (different on Windows and other combinations work also - shift + scroll)\n",
    "\n",
    "PATTERN TO CREATE MAPS\n",
    "data\n",
    "view (location, zoom level, etc.)\n",
    "layer\n",
    "render map\n",
    "display and save map (to_html(), show())"
   ]
  },
  {
   "cell_type": "code",
   "execution_count": 1,
   "metadata": {},
   "outputs": [
    {
     "data": {
      "text/plain": [
       "'0.10.2'"
      ]
     },
     "execution_count": 1,
     "metadata": {},
     "output_type": "execute_result"
    }
   ],
   "source": [
    "import mapboxgl\n",
    "mapboxgl.__version__"
   ]
  },
  {
   "cell_type": "code",
   "execution_count": 2,
   "metadata": {},
   "outputs": [
    {
     "data": {
      "text/plain": [
       "True"
      ]
     },
     "execution_count": 2,
     "metadata": {},
     "output_type": "execute_result"
    }
   ],
   "source": [
    "import os\n",
    "from dotenv import load_dotenv\n",
    "# .env file to environment\n",
    "#load_dotenv()\n",
    "load_dotenv(verbose=True)"
   ]
  },
  {
   "cell_type": "markdown",
   "metadata": {},
   "source": [
    "!jupyter nbextension install --sys-prefix --symlink --overwrite --py pydeck\n",
    "!jupyter nbextension enable --sys-prefix --py pydeck"
   ]
  },
  {
   "cell_type": "code",
   "execution_count": 3,
   "metadata": {},
   "outputs": [],
   "source": [
    "token = os.getenv('MAPBOX_API_KEY')"
   ]
  },
  {
   "cell_type": "code",
   "execution_count": 4,
   "metadata": {},
   "outputs": [],
   "source": [
    "import pydeck as pdk\n",
    "import pandas as pd\n",
    "\n",
    "DATA_URL = \"https://raw.githubusercontent.com/ajduberstein/sf_public_data/master/bay_area_commute_routes.csv\""
   ]
  },
  {
   "cell_type": "code",
   "execution_count": 5,
   "metadata": {},
   "outputs": [],
   "source": [
    "# A bounding box for downtown San Francisco, to help filter this commuter data\n",
    "DOWNTOWN_BOUNDING_BOX = [\n",
    "    -122.43135291617365,\n",
    "    37.766492914983864,\n",
    "    -122.38706428091974,\n",
    "    37.80583561830737,\n",
    "]\n",
    "\n",
    "\n",
    "def in_bounding_box(point):\n",
    "    \"\"\"Determine whether a point is in our downtown bounding box\"\"\"\n",
    "    lng, lat = point\n",
    "    in_lng_bounds = DOWNTOWN_BOUNDING_BOX[0] <= lng <= DOWNTOWN_BOUNDING_BOX[2]\n",
    "    in_lat_bounds = DOWNTOWN_BOUNDING_BOX[1] <= lat <= DOWNTOWN_BOUNDING_BOX[3]\n",
    "    return in_lng_bounds and in_lat_bounds"
   ]
  },
  {
   "cell_type": "code",
   "execution_count": 6,
   "metadata": {},
   "outputs": [],
   "source": [
    "df = pd.read_csv(DATA_URL)\n",
    "# Filter to bounding box\n",
    "df = df[df[[\"lng_w\", \"lat_w\"]].apply(lambda row: in_bounding_box(row), axis=1)]"
   ]
  },
  {
   "cell_type": "code",
   "execution_count": 7,
   "metadata": {},
   "outputs": [
    {
     "data": {
      "text/html": [
       "<div>\n",
       "<style scoped>\n",
       "    .dataframe tbody tr th:only-of-type {\n",
       "        vertical-align: middle;\n",
       "    }\n",
       "\n",
       "    .dataframe tbody tr th {\n",
       "        vertical-align: top;\n",
       "    }\n",
       "\n",
       "    .dataframe thead th {\n",
       "        text-align: right;\n",
       "    }\n",
       "</style>\n",
       "<table border=\"1\" class=\"dataframe\">\n",
       "  <thead>\n",
       "    <tr style=\"text-align: right;\">\n",
       "      <th></th>\n",
       "      <th>S000</th>\n",
       "      <th>w_geocode</th>\n",
       "      <th>h_geocode</th>\n",
       "      <th>lat_w</th>\n",
       "      <th>lng_w</th>\n",
       "      <th>geoid10</th>\n",
       "      <th>lat_h</th>\n",
       "      <th>lng_h</th>\n",
       "    </tr>\n",
       "  </thead>\n",
       "  <tbody>\n",
       "    <tr>\n",
       "      <th>1</th>\n",
       "      <td>2</td>\n",
       "      <td>60750615001027</td>\n",
       "      <td>60014004001009</td>\n",
       "      <td>37.788996</td>\n",
       "      <td>-122.399133</td>\n",
       "      <td>60014004001009</td>\n",
       "      <td>37.849728</td>\n",
       "      <td>-122.253480</td>\n",
       "    </tr>\n",
       "    <tr>\n",
       "      <th>7</th>\n",
       "      <td>2</td>\n",
       "      <td>60750117002022</td>\n",
       "      <td>60014011003009</td>\n",
       "      <td>37.787461</td>\n",
       "      <td>-122.404334</td>\n",
       "      <td>60014011003009</td>\n",
       "      <td>37.825330</td>\n",
       "      <td>-122.263653</td>\n",
       "    </tr>\n",
       "    <tr>\n",
       "      <th>8</th>\n",
       "      <td>5</td>\n",
       "      <td>60750176014001</td>\n",
       "      <td>60014011003009</td>\n",
       "      <td>37.776614</td>\n",
       "      <td>-122.416391</td>\n",
       "      <td>60014011003009</td>\n",
       "      <td>37.825330</td>\n",
       "      <td>-122.263653</td>\n",
       "    </tr>\n",
       "    <tr>\n",
       "      <th>9</th>\n",
       "      <td>2</td>\n",
       "      <td>60750615001008</td>\n",
       "      <td>60014011003009</td>\n",
       "      <td>37.791575</td>\n",
       "      <td>-122.393733</td>\n",
       "      <td>60014011003009</td>\n",
       "      <td>37.825330</td>\n",
       "      <td>-122.263653</td>\n",
       "    </tr>\n",
       "    <tr>\n",
       "      <th>10</th>\n",
       "      <td>2</td>\n",
       "      <td>60750615001016</td>\n",
       "      <td>60014011003009</td>\n",
       "      <td>37.789900</td>\n",
       "      <td>-122.399964</td>\n",
       "      <td>60014011003009</td>\n",
       "      <td>37.825330</td>\n",
       "      <td>-122.263653</td>\n",
       "    </tr>\n",
       "  </tbody>\n",
       "</table>\n",
       "</div>"
      ],
      "text/plain": [
       "    S000       w_geocode       h_geocode      lat_w       lng_w  \\\n",
       "1      2  60750615001027  60014004001009  37.788996 -122.399133   \n",
       "7      2  60750117002022  60014011003009  37.787461 -122.404334   \n",
       "8      5  60750176014001  60014011003009  37.776614 -122.416391   \n",
       "9      2  60750615001008  60014011003009  37.791575 -122.393733   \n",
       "10     2  60750615001016  60014011003009  37.789900 -122.399964   \n",
       "\n",
       "           geoid10      lat_h       lng_h  \n",
       "1   60014004001009  37.849728 -122.253480  \n",
       "7   60014011003009  37.825330 -122.263653  \n",
       "8   60014011003009  37.825330 -122.263653  \n",
       "9   60014011003009  37.825330 -122.263653  \n",
       "10  60014011003009  37.825330 -122.263653  "
      ]
     },
     "execution_count": 7,
     "metadata": {},
     "output_type": "execute_result"
    }
   ],
   "source": [
    "df.head()"
   ]
  },
  {
   "cell_type": "code",
   "execution_count": 8,
   "metadata": {},
   "outputs": [],
   "source": [
    "GREEN_RGB = [0, 255, 0, 40]\n",
    "RED_RGB = [240, 100, 0, 40]\n",
    "\n",
    "# Specify a deck.gl ArcLayer\n",
    "arc_layer = pdk.Layer(\n",
    "    \"ArcLayer\",\n",
    "    data=df,\n",
    "    get_width=\"S000 * 2\",\n",
    "    get_source_position=[\"lng_h\", \"lat_h\"],\n",
    "    get_target_position=[\"lng_w\", \"lat_w\"],\n",
    "    get_tilt=15,\n",
    "    get_source_color=RED_RGB,\n",
    "    get_target_color=GREEN_RGB,\n",
    "    pickable=True,\n",
    "    auto_highlight=True,\n",
    ")\n",
    "\n",
    "view_state = pdk.ViewState(\n",
    "    latitude=37.7576171,\n",
    "    longitude=-122.5776844,\n",
    "    bearing=45,\n",
    "    pitch=50,\n",
    "    zoom=8,\n",
    ")\n",
    "\n",
    "\n",
    "TOOLTIP_TEXT = {\"html\": \"{S000} jobs <br /> Home of commuter in red; work location in green\"}\n",
    "r = pdk.Deck(arc_layer, initial_view_state=view_state, tooltip=TOOLTIP_TEXT)\n",
    "#r = pdk.Deck(arc_layer, initial_view_state=view_state, tooltip=True)"
   ]
  },
  {
   "cell_type": "code",
   "execution_count": 9,
   "metadata": {
    "scrolled": false
   },
   "outputs": [
    {
     "data": {
      "application/vnd.jupyter.widget-view+json": {
       "model_id": "f23a7947f0a1414b96cd29a99fee4802",
       "version_major": 2,
       "version_minor": 0
      },
      "text/plain": [
       "DeckGLWidget(google_maps_key=None, json_input='{\"initialViewState\": {\"bearing\": 45, \"latitude\": 37.7576171, \"l…"
      ]
     },
     "metadata": {},
     "output_type": "display_data"
    }
   ],
   "source": [
    "#r.to_html(\"arc_layer.html\")\n",
    "r.show()"
   ]
  },
  {
   "cell_type": "code",
   "execution_count": null,
   "metadata": {},
   "outputs": [],
   "source": []
  }
 ],
 "metadata": {
  "kernelspec": {
   "display_name": "Python 3",
   "language": "python",
   "name": "python3"
  },
  "language_info": {
   "codemirror_mode": {
    "name": "ipython",
    "version": 3
   },
   "file_extension": ".py",
   "mimetype": "text/x-python",
   "name": "python",
   "nbconvert_exporter": "python",
   "pygments_lexer": "ipython3",
   "version": "3.7.0"
  }
 },
 "nbformat": 4,
 "nbformat_minor": 4
}
