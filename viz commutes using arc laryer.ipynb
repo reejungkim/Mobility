{
 "cells": [
  {
   "cell_type": "markdown",
   "metadata": {},
   "source": [
    "ArcLayer\n",
    "========\n",
    "\n",
    "Map of commutes to work within a segment of downtown San Francisco using a deck.gl ArcLayer.\n",
    "\n",
    "Green indicates a start point, and red indicates the destination.\n",
    "\n",
    "The data is collected by the US Census Bureau and viewable in the 2017 LODES data set: https://lehd.ces.census.gov/data/"
   ]
  },
  {
   "cell_type": "markdown",
   "metadata": {},
   "source": [
    "Mapbox requires an API key\n",
    "command + scroll to rotate map (different on Windows and other combinations work also - shift + scroll)\n",
    "\n",
    "PATTERN TO CREATE MAPS\n",
    "data\n",
    "view (location, zoom level, etc.)\n",
    "layer\n",
    "render map\n",
    "display and save map (to_html(), show())"
   ]
  },
  {
   "cell_type": "code",
   "execution_count": 1,
   "metadata": {},
   "outputs": [
    {
     "data": {
      "text/plain": [
       "'0.10.2'"
      ]
     },
     "execution_count": 1,
     "metadata": {},
     "output_type": "execute_result"
    }
   ],
   "source": [
    "import mapboxgl\n",
    "mapboxgl.__version__"
   ]
  },
  {
   "cell_type": "code",
   "execution_count": 2,
   "metadata": {},
   "outputs": [],
   "source": [
    "import os\n",
    "from dotenv import load_dotenv\n",
    "# .env file to environment\n",
    "#load_dotenv()\n",
    "load_dotenv(verbose=True)\n",
    "\n",
    "token = os.getenv('MAPBOX_API_KEY')"
   ]
  },
  {
   "cell_type": "markdown",
   "metadata": {},
   "source": [
    "!jupyter nbextension install --sys-prefix --symlink --overwrite --py pydeck\n",
    "!jupyter nbextension enable --sys-prefix --py pydeck"
   ]
  },
  {
   "cell_type": "code",
   "execution_count": 4,
   "metadata": {},
   "outputs": [],
   "source": [
    "import pydeck as pdk\n",
    "import pandas as pd\n",
    "import geocoder\n",
    "\n",
    "DATA_URL = \"https://raw.githubusercontent.com/ajduberstein/sf_public_data/master/bay_area_commute_routes.csv\""
   ]
  },
  {
   "cell_type": "code",
   "execution_count": 5,
   "metadata": {},
   "outputs": [],
   "source": [
    "# A bounding box for downtown San Francisco, to help filter this commuter data\n",
    "DOWNTOWN_BOUNDING_BOX = [\n",
    "    -122.43135291617365,\n",
    "    37.766492914983864,\n",
    "    -122.38706428091974,\n",
    "    37.80583561830737,\n",
    "]\n",
    "\n",
    "def in_bounding_box(point):\n",
    "    \"\"\"Determine whether a point is in our downtown bounding box\"\"\"\n",
    "    lng, lat = point\n",
    "    in_lng_bounds = DOWNTOWN_BOUNDING_BOX[0] <= lng <= DOWNTOWN_BOUNDING_BOX[2]\n",
    "    in_lat_bounds = DOWNTOWN_BOUNDING_BOX[1] <= lat <= DOWNTOWN_BOUNDING_BOX[3]\n",
    "    return in_lng_bounds and in_lat_bounds"
   ]
  },
  {
   "cell_type": "code",
   "execution_count": 6,
   "metadata": {},
   "outputs": [],
   "source": [
    "df = pd.read_csv(DATA_URL)\n",
    "# Filter to bounding box\n",
    "df = df[df[[\"lng_w\", \"lat_w\"]].apply(lambda row: in_bounding_box(row), axis=1)]\n",
    "\n"
   ]
  },
  {
   "cell_type": "code",
   "execution_count": null,
   "metadata": {},
   "outputs": [],
   "source": [
    "df.head()"
   ]
  },
  {
   "cell_type": "code",
   "execution_count": 10,
   "metadata": {
    "scrolled": true
   },
   "outputs": [],
   "source": [
    "\n",
    "from geopy.geocoders import Nominatim \n",
    "geolocator = Nominatim(user_agent=\"user\")\n",
    "location = geolocator.reverse(\"52.509669, 13.376294\", language=\"es\")"
   ]
  },
  {
   "cell_type": "markdown",
   "metadata": {},
   "source": [
    "def getCity(lat,lng):\n",
    "    latlng = str(lat) +','+ str(lng)\n",
    "    location = geolocator.reverse(latlng)\n",
    "    return location.address"
   ]
  },
  {
   "cell_type": "markdown",
   "metadata": {},
   "source": [
    "df['city']= df.apply(lambda x: getCity(x.lat_w, x.lng_w), axis=1)"
   ]
  },
  {
   "cell_type": "code",
   "execution_count": 16,
   "metadata": {},
   "outputs": [
    {
     "data": {
      "text/plain": [
       "'Golden Gate University, Elim Street, Financial District, San Francisco, California, 94105, Estados Unidos de América'"
      ]
     },
     "execution_count": 16,
     "metadata": {},
     "output_type": "execute_result"
    }
   ],
   "source": [
    "location.address"
   ]
  },
  {
   "cell_type": "markdown",
   "metadata": {},
   "source": [
    "from pygeocoder import Geocoder\n",
    "def getCity(lng, lat):\n",
    "    location = Geocoder.reverse_geocode(lng, lat)\n",
    "    return location.city"
   ]
  },
  {
   "cell_type": "markdown",
   "metadata": {},
   "source": [
    "df = df[['lat_w', 'lng_w', 'lat_h', 'lng_h']]"
   ]
  },
  {
   "cell_type": "code",
   "execution_count": 5,
   "metadata": {},
   "outputs": [
    {
     "name": "stdout",
     "output_type": "stream",
     "text": [
      "<class 'pandas.core.frame.DataFrame'>\n",
      "RangeIndex: 189918 entries, 0 to 189917\n",
      "Data columns (total 8 columns):\n",
      " #   Column     Non-Null Count   Dtype  \n",
      "---  ------     --------------   -----  \n",
      " 0   S000       189918 non-null  int64  \n",
      " 1   w_geocode  189918 non-null  int64  \n",
      " 2   h_geocode  189918 non-null  int64  \n",
      " 3   lat_w      189918 non-null  float64\n",
      " 4   lng_w      189918 non-null  float64\n",
      " 5   geoid10    189918 non-null  int64  \n",
      " 6   lat_h      189918 non-null  float64\n",
      " 7   lng_h      189918 non-null  float64\n",
      "dtypes: float64(4), int64(4)\n",
      "memory usage: 11.6 MB\n"
     ]
    }
   ],
   "source": [
    "df.info()"
   ]
  },
  {
   "cell_type": "markdown",
   "metadata": {},
   "source": [
    "df = df.loc[df.geoid10==60014004001009]\n",
    "df"
   ]
  },
  {
   "cell_type": "code",
   "execution_count": 11,
   "metadata": {},
   "outputs": [],
   "source": [
    "GREEN_RGB = [0, 255, 0, 40]\n",
    "RED_RGB = [240, 100, 0, 40]\n",
    "\n",
    "# Specify a deck.gl ArcLayer\n",
    "arc_layer = pdk.Layer(\n",
    "    \"ArcLayer\",\n",
    "    data=df,\n",
    "    get_width=\"S000 * 2\",\n",
    "    get_source_position=[\"lng_h\", \"lat_h\"],\n",
    "    get_target_position=[\"lng_w\", \"lat_w\"],\n",
    "    get_tilt=15,\n",
    "    get_source_color=RED_RGB,\n",
    "    get_target_color=GREEN_RGB,\n",
    "    pickable=True,\n",
    "    auto_highlight=True,\n",
    ")\n",
    "\n",
    "view_state = pdk.ViewState(\n",
    "    latitude=37.7576171,\n",
    "    longitude=-122.5776844,\n",
    "    bearing=45,\n",
    "    pitch=50,\n",
    "    zoom=8,\n",
    ")"
   ]
  },
  {
   "cell_type": "code",
   "execution_count": 12,
   "metadata": {},
   "outputs": [],
   "source": [
    "TOOLTIP_TEXT = {\"html\": \"{S000} jobs <br /> Home of commuter in red; work location in green\"}"
   ]
  },
  {
   "cell_type": "code",
   "execution_count": 13,
   "metadata": {},
   "outputs": [],
   "source": [
    "r = pdk.Deck(arc_layer, \n",
    "             initial_view_state=view_state, \n",
    "             tooltip=TOOLTIP_TEXT,\n",
    "            map_style = \"mapbox://styles/mapbox/streets-v11\")\n",
    "#r = pdk.Deck(arc_layer, initial_view_state=view_state, tooltip=True)"
   ]
  },
  {
   "cell_type": "code",
   "execution_count": 14,
   "metadata": {
    "scrolled": false
   },
   "outputs": [
    {
     "data": {
      "application/vnd.jupyter.widget-view+json": {
       "model_id": "41bfeff461434a36b60095ca59353df4",
       "version_major": 2,
       "version_minor": 0
      },
      "text/plain": [
       "DeckGLWidget(google_maps_key=None, json_input='{\"initialViewState\": {\"bearing\": 45, \"latitude\": 37.7576171, \"l…"
      ]
     },
     "metadata": {},
     "output_type": "display_data"
    }
   ],
   "source": [
    "#r.to_html(\"arc_layer.html\")\n",
    "r.show()"
   ]
  },
  {
   "cell_type": "code",
   "execution_count": 15,
   "metadata": {},
   "outputs": [
    {
     "data": {
      "text/html": [
       "<div>\n",
       "<style scoped>\n",
       "    .dataframe tbody tr th:only-of-type {\n",
       "        vertical-align: middle;\n",
       "    }\n",
       "\n",
       "    .dataframe tbody tr th {\n",
       "        vertical-align: top;\n",
       "    }\n",
       "\n",
       "    .dataframe thead th {\n",
       "        text-align: right;\n",
       "    }\n",
       "</style>\n",
       "<table border=\"1\" class=\"dataframe\">\n",
       "  <thead>\n",
       "    <tr style=\"text-align: right;\">\n",
       "      <th></th>\n",
       "      <th>from</th>\n",
       "      <th>to</th>\n",
       "    </tr>\n",
       "  </thead>\n",
       "  <tbody>\n",
       "    <tr>\n",
       "      <th>0</th>\n",
       "      <td>{'type': 'major', 'name': 'San Francisco Int'l...</td>\n",
       "      <td>{'type': 'major', 'name': 'Liverpool John Lenn...</td>\n",
       "    </tr>\n",
       "    <tr>\n",
       "      <th>1</th>\n",
       "      <td>{'type': 'major', 'name': 'San Francisco Int'l...</td>\n",
       "      <td>{'type': 'major', 'name': 'Newcastle Int'l', '...</td>\n",
       "    </tr>\n",
       "    <tr>\n",
       "      <th>2</th>\n",
       "      <td>{'type': 'major', 'name': 'San Francisco Int'l...</td>\n",
       "      <td>{'type': 'major', 'name': 'Madinah Int'l', 'ab...</td>\n",
       "    </tr>\n",
       "    <tr>\n",
       "      <th>3</th>\n",
       "      <td>{'type': 'major', 'name': 'San Francisco Int'l...</td>\n",
       "      <td>{'type': 'major', 'name': 'Sakirpasa', 'abbrev...</td>\n",
       "    </tr>\n",
       "    <tr>\n",
       "      <th>4</th>\n",
       "      <td>{'type': 'major', 'name': 'San Francisco Int'l...</td>\n",
       "      <td>{'type': 'major', 'name': 'Amarillo Int'l', 'a...</td>\n",
       "    </tr>\n",
       "  </tbody>\n",
       "</table>\n",
       "</div>"
      ],
      "text/plain": [
       "                                                from  \\\n",
       "0  {'type': 'major', 'name': 'San Francisco Int'l...   \n",
       "1  {'type': 'major', 'name': 'San Francisco Int'l...   \n",
       "2  {'type': 'major', 'name': 'San Francisco Int'l...   \n",
       "3  {'type': 'major', 'name': 'San Francisco Int'l...   \n",
       "4  {'type': 'major', 'name': 'San Francisco Int'l...   \n",
       "\n",
       "                                                  to  \n",
       "0  {'type': 'major', 'name': 'Liverpool John Lenn...  \n",
       "1  {'type': 'major', 'name': 'Newcastle Int'l', '...  \n",
       "2  {'type': 'major', 'name': 'Madinah Int'l', 'ab...  \n",
       "3  {'type': 'major', 'name': 'Sakirpasa', 'abbrev...  \n",
       "4  {'type': 'major', 'name': 'Amarillo Int'l', 'a...  "
      ]
     },
     "execution_count": 15,
     "metadata": {},
     "output_type": "execute_result"
    }
   ],
   "source": [
    "GREAT_CIRCLE_LAYER_DATA = \"https://raw.githubusercontent.com/visgl/deck.gl-data/master/website/flights.json\"  # noqa\n",
    "df = pd.read_json(GREAT_CIRCLE_LAYER_DATA)\n",
    "df.head()"
   ]
  },
  {
   "cell_type": "code",
   "execution_count": 16,
   "metadata": {},
   "outputs": [],
   "source": [
    "# Use pandas to prepare data for tooltip\n",
    "df[\"from_name\"] = df[\"from\"].apply(lambda f: f[\"name\"])\n",
    "df[\"to_name\"] = df[\"to\"].apply(lambda t: t[\"name\"])"
   ]
  },
  {
   "cell_type": "code",
   "execution_count": 17,
   "metadata": {},
   "outputs": [
    {
     "data": {
      "text/html": [
       "<div>\n",
       "<style scoped>\n",
       "    .dataframe tbody tr th:only-of-type {\n",
       "        vertical-align: middle;\n",
       "    }\n",
       "\n",
       "    .dataframe tbody tr th {\n",
       "        vertical-align: top;\n",
       "    }\n",
       "\n",
       "    .dataframe thead th {\n",
       "        text-align: right;\n",
       "    }\n",
       "</style>\n",
       "<table border=\"1\" class=\"dataframe\">\n",
       "  <thead>\n",
       "    <tr style=\"text-align: right;\">\n",
       "      <th></th>\n",
       "      <th>from</th>\n",
       "      <th>to</th>\n",
       "      <th>from_name</th>\n",
       "      <th>to_name</th>\n",
       "    </tr>\n",
       "  </thead>\n",
       "  <tbody>\n",
       "    <tr>\n",
       "      <th>0</th>\n",
       "      <td>{'type': 'major', 'name': 'San Francisco Int'l...</td>\n",
       "      <td>{'type': 'major', 'name': 'Liverpool John Lenn...</td>\n",
       "      <td>San Francisco Int'l</td>\n",
       "      <td>Liverpool John Lennon</td>\n",
       "    </tr>\n",
       "    <tr>\n",
       "      <th>1</th>\n",
       "      <td>{'type': 'major', 'name': 'San Francisco Int'l...</td>\n",
       "      <td>{'type': 'major', 'name': 'Newcastle Int'l', '...</td>\n",
       "      <td>San Francisco Int'l</td>\n",
       "      <td>Newcastle Int'l</td>\n",
       "    </tr>\n",
       "    <tr>\n",
       "      <th>2</th>\n",
       "      <td>{'type': 'major', 'name': 'San Francisco Int'l...</td>\n",
       "      <td>{'type': 'major', 'name': 'Madinah Int'l', 'ab...</td>\n",
       "      <td>San Francisco Int'l</td>\n",
       "      <td>Madinah Int'l</td>\n",
       "    </tr>\n",
       "    <tr>\n",
       "      <th>3</th>\n",
       "      <td>{'type': 'major', 'name': 'San Francisco Int'l...</td>\n",
       "      <td>{'type': 'major', 'name': 'Sakirpasa', 'abbrev...</td>\n",
       "      <td>San Francisco Int'l</td>\n",
       "      <td>Sakirpasa</td>\n",
       "    </tr>\n",
       "    <tr>\n",
       "      <th>4</th>\n",
       "      <td>{'type': 'major', 'name': 'San Francisco Int'l...</td>\n",
       "      <td>{'type': 'major', 'name': 'Amarillo Int'l', 'a...</td>\n",
       "      <td>San Francisco Int'l</td>\n",
       "      <td>Amarillo Int'l</td>\n",
       "    </tr>\n",
       "  </tbody>\n",
       "</table>\n",
       "</div>"
      ],
      "text/plain": [
       "                                                from  \\\n",
       "0  {'type': 'major', 'name': 'San Francisco Int'l...   \n",
       "1  {'type': 'major', 'name': 'San Francisco Int'l...   \n",
       "2  {'type': 'major', 'name': 'San Francisco Int'l...   \n",
       "3  {'type': 'major', 'name': 'San Francisco Int'l...   \n",
       "4  {'type': 'major', 'name': 'San Francisco Int'l...   \n",
       "\n",
       "                                                  to            from_name  \\\n",
       "0  {'type': 'major', 'name': 'Liverpool John Lenn...  San Francisco Int'l   \n",
       "1  {'type': 'major', 'name': 'Newcastle Int'l', '...  San Francisco Int'l   \n",
       "2  {'type': 'major', 'name': 'Madinah Int'l', 'ab...  San Francisco Int'l   \n",
       "3  {'type': 'major', 'name': 'Sakirpasa', 'abbrev...  San Francisco Int'l   \n",
       "4  {'type': 'major', 'name': 'Amarillo Int'l', 'a...  San Francisco Int'l   \n",
       "\n",
       "                 to_name  \n",
       "0  Liverpool John Lennon  \n",
       "1        Newcastle Int'l  \n",
       "2          Madinah Int'l  \n",
       "3              Sakirpasa  \n",
       "4         Amarillo Int'l  "
      ]
     },
     "execution_count": 17,
     "metadata": {},
     "output_type": "execute_result"
    }
   ],
   "source": [
    "df.head()"
   ]
  },
  {
   "cell_type": "code",
   "execution_count": 18,
   "metadata": {},
   "outputs": [
    {
     "data": {
      "text/plain": [
       "{'type': 'major',\n",
       " 'name': \"San Francisco Int'l\",\n",
       " 'abbrev': 'SFO',\n",
       " 'coordinates': [-122.38347034444931, 37.61702508680534]}"
      ]
     },
     "execution_count": 18,
     "metadata": {},
     "output_type": "execute_result"
    }
   ],
   "source": [
    "df['from'][0]"
   ]
  },
  {
   "cell_type": "code",
   "execution_count": 19,
   "metadata": {},
   "outputs": [],
   "source": [
    "# Define a layer to display on a map\n",
    "layer = pdk.Layer(\n",
    "    \"GreatCircleLayer\",\n",
    "    df,\n",
    "    pickable=True,\n",
    "    get_stroke_width=22,\n",
    "    get_source_position=\"from.coordinates\",\n",
    "    get_target_position=\"to.coordinates\",\n",
    "    get_source_color=[50, 255, 0],\n",
    "    get_target_color=[0, 128, 200],\n",
    "    auto_highlight=True,\n",
    ")\n",
    "\n",
    "# Set the viewport location\n",
    "view_state = pdk.ViewState(latitude=50, longitude=-40, zoom=1, bearing=0, pitch=0)\n",
    "\n",
    "# Render\n",
    "r = pdk.Deck(\n",
    "    layers=[layer],\n",
    "    initial_view_state=view_state,\n",
    "    tooltip={\"text\": \"{from_name} to {to_name}\"},\n",
    "    map_style = \"mapbox://styles/mapbox/light-v10\"\n",
    ")\n",
    "\n",
    "r.picking_radius = 10"
   ]
  },
  {
   "cell_type": "code",
   "execution_count": 20,
   "metadata": {},
   "outputs": [
    {
     "data": {
      "application/vnd.jupyter.widget-view+json": {
       "model_id": "e1b36fe20bae45c09f9d8dc8a1041df8",
       "version_major": 2,
       "version_minor": 0
      },
      "text/plain": [
       "DeckGLWidget(google_maps_key=None, json_input='{\"initialViewState\": {\"bearing\": 0, \"latitude\": 50, \"longitude\"…"
      ]
     },
     "metadata": {},
     "output_type": "display_data"
    }
   ],
   "source": [
    "r.show()"
   ]
  },
  {
   "cell_type": "code",
   "execution_count": null,
   "metadata": {},
   "outputs": [],
   "source": []
  }
 ],
 "metadata": {
  "kernelspec": {
   "display_name": "Python 3",
   "language": "python",
   "name": "python3"
  }
 },
 "nbformat": 4,
 "nbformat_minor": 4
}
